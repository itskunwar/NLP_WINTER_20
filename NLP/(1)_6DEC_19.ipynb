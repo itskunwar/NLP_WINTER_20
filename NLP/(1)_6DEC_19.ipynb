{
 "cells": [
  {
   "cell_type": "code",
   "execution_count": 8,
   "metadata": {},
   "outputs": [
    {
     "name": "stdout",
     "output_type": "stream",
     "text": [
      "Shakespare give the world best of theatrics\n",
      "'William Shakespeare (bapt. 26 April 1564 – 23 April 1616)[a] was an\n",
      "         English poet, playwright, and actor, widely regarded as the greatest writer\n",
      "         in the English language and the world's greatest dramatist.[2][3][4] He is often\n",
      "         called England's national poet and the Bard of Avon\\ (or simply the Bard).[5][b] His\n",
      "         extant works, including collaborations, consist of some 39 plays,[c] 154 sonnets, \n",
      "         two long narrative poems, and a few other verses, some of uncertain authorship. \n",
      "         His plays have been translated into every major living language and are performed \n",
      "         more often than those of any other playwright.[7\n",
      "दिवाली, भारत देश में मनाया जाने वाला सबसे बडा़ त्यौहार है।\n",
      "दिवाली को पूरे भारत में खूब धूम धाम से मनाते हैं। आपको बता दें कि दिवाली सिर्फ\n",
      "भारत में ही नहीं बल्कि भारत के बाहर रहने वाले भारतीय और अन्य लोग भी बहुत धूम धाम से मनाते हैं। आज हम आपको अपने इस आर्टिकल में बताने वाले कि दिवाली का त्यौहार कैसा होता है, दिवाली का महत्व क्या है, दीपावली क्यों मनाते है, दीपावली मनाने का कारण क्या है, दीपावली का अर्थ क्या है, दिवाली पर निबंध आदि। स्कूल के छात्र, कॉलेजों के छात्र दिवाली पर निबंध खोजते हैं।  स्कूलो में, कॉलेजों में और अन्य जगह भी दिवली त्यौहार पर दिवाली पर निबंध लिखने को लेकर कॉम्पटीशन होता है। जिसमें बहुत सारे लोग दीपावली का निबंध हिंदी में खोजते हैं। दिवाली पर निबंध, शॉर्ट निबंध, 10 लाइनें की जानकारी प्राप्त करने के लिए आप इस आर्टिकल को पूरा पढ़ सकते हैं।\n"
     ]
    }
   ],
   "source": [
    "var = 'Shakespare give the world best of theatrics'\n",
    "print(var)\n",
    "\n",
    "para = ''''William Shakespeare (bapt. 26 April 1564 – 23 April 1616)[a] was an\n",
    "         English poet, playwright, and actor, widely regarded as the greatest writer\n",
    "         in the English language and the world's greatest dramatist.[2][3][4] He is often\n",
    "         called England's national poet and the Bard of Avon\\ (or simply the Bard).[5][b] His\n",
    "         extant works, including collaborations, consist of some 39 plays,[c] 154 sonnets, \n",
    "         two long narrative poems, and a few other verses, some of uncertain authorship. \n",
    "         His plays have been translated into every major living language and are performed \n",
    "         more often than those of any other playwright.[7'''\n",
    "\n",
    "print(para)\n",
    "\n",
    "hindik = '''दिवाली, भारत देश में मनाया जाने वाला सबसे बडा़ त्यौहार है।\n",
    "दिवाली को पूरे भारत में खूब धूम धाम से मनाते हैं। आपको बता दें कि दिवाली सिर्फ\n",
    "भारत में ही नहीं बल्कि भारत के बाहर रहने वाले भारतीय और अन्य लोग भी बहुत धूम धाम से मनाते हैं। आज हम आपको अपने इस आर्टिकल में बताने वाले कि दिवाली का त्यौहार कैसा होता है, दिवाली का महत्व क्या है, दीपावली क्यों मनाते है, दीपावली मनाने का कारण क्या है, दीपावली का अर्थ क्या है, दिवाली पर निबंध आदि। स्कूल के छात्र, कॉलेजों के छात्र दिवाली पर निबंध खोजते हैं।  स्कूलो में, कॉलेजों में और अन्य जगह भी दिवली त्यौहार पर दिवाली पर निबंध लिखने को लेकर कॉम्पटीशन होता है। जिसमें बहुत सारे लोग दीपावली का निबंध हिंदी में खोजते हैं। दिवाली पर निबंध, शॉर्ट निबंध, 10 लाइनें की जानकारी प्राप्त करने के लिए आप इस आर्टिकल को पूरा पढ़ सकते हैं।'''\n",
    "\n",
    "print(hindik)"
   ]
  },
  {
   "cell_type": "code",
   "execution_count": null,
   "metadata": {},
   "outputs": [],
   "source": []
  }
 ],
 "metadata": {
  "kernelspec": {
   "display_name": "Python 3",
   "language": "python",
   "name": "python3"
  },
  "language_info": {
   "codemirror_mode": {
    "name": "ipython",
    "version": 3
   },
   "file_extension": ".py",
   "mimetype": "text/x-python",
   "name": "python",
   "nbconvert_exporter": "python",
   "pygments_lexer": "ipython3",
   "version": "3.7.1"
  }
 },
 "nbformat": 4,
 "nbformat_minor": 2
}
